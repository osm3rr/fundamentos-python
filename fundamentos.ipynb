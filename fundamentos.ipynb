{
 "cells": [
  {
   "cell_type": "markdown",
   "metadata": {},
   "source": [
    "#### Fundamentos de python\n",
    "* variables\n",
    "* Operadores matemáticos\n",
    "* Operadores lógicos\n",
    "* Operadores de comparación\n",
    "* estructuras de control\n",
    "    - Condicionales\n",
    "    - Ciclo finito: for\n",
    "    - ciclo infinito: while\n",
    "    - funciones\n",
    "* estructuras de datos\n",
    "    - cadenas de caracteres: string\n",
    "    - número enteros\n",
    "    - números decimales\n",
    "    - listas\n",
    "    - diccionarios\n",
    "    - tuplas"
   ]
  },
  {
   "cell_type": "code",
   "execution_count": 1,
   "metadata": {},
   "outputs": [
    {
     "name": "stdout",
     "output_type": "stream",
     "text": [
      "epale mundo 2\n"
     ]
    }
   ],
   "source": [
    "print(\"epale mundo 2\")"
   ]
  },
  {
   "cell_type": "code",
   "execution_count": 7,
   "metadata": {},
   "outputs": [],
   "source": [
    "# Variables\n",
    "name = \"Juan\"\n",
    "Name = \"Pedro\"\n",
    "last_name = \"Perez\""
   ]
  },
  {
   "cell_type": "code",
   "execution_count": null,
   "metadata": {},
   "outputs": [],
   "source": [
    "# mala practica\n",
    "Last_Name = \"Gomez\""
   ]
  },
  {
   "cell_type": "code",
   "execution_count": null,
   "metadata": {},
   "outputs": [],
   "source": [
    "# mala practica\n",
    "LastName = \"Gomez\""
   ]
  },
  {
   "cell_type": "code",
   "execution_count": null,
   "metadata": {},
   "outputs": [],
   "source": [
    "last_name = \"Gomez\""
   ]
  },
  {
   "cell_type": "code",
   "execution_count": null,
   "metadata": {},
   "outputs": [],
   "source": [
    "qwert = \"primero\""
   ]
  },
  {
   "cell_type": "code",
   "execution_count": 15,
   "metadata": {},
   "outputs": [],
   "source": [
    "NAME = \"Juan\"\n",
    "name = \"Pedro\""
   ]
  },
  {
   "cell_type": "code",
   "execution_count": 17,
   "metadata": {},
   "outputs": [],
   "source": [
    "# operadores matemáticos\n",
    "number_1 = 10\n",
    "number_2 = 5\n"
   ]
  },
  {
   "cell_type": "code",
   "execution_count": 18,
   "metadata": {},
   "outputs": [],
   "source": [
    "# suma\n",
    "result = number_1 + number_2\n"
   ]
  },
  {
   "cell_type": "code",
   "execution_count": 19,
   "metadata": {},
   "outputs": [
    {
     "name": "stdout",
     "output_type": "stream",
     "text": [
      "15\n"
     ]
    }
   ],
   "source": [
    "print(result)"
   ]
  },
  {
   "cell_type": "code",
   "execution_count": 20,
   "metadata": {},
   "outputs": [],
   "source": [
    "# resta\n",
    "result_sub = number_1 - number_2\n"
   ]
  },
  {
   "cell_type": "code",
   "execution_count": 21,
   "metadata": {},
   "outputs": [],
   "source": [
    "# multiplicación\n",
    "result_mult = number_1 * number_2\n",
    "\n",
    "# división  \n",
    "result_div = number_1 / number_2"
   ]
  },
  {
   "cell_type": "code",
   "execution_count": 22,
   "metadata": {},
   "outputs": [
    {
     "name": "stdout",
     "output_type": "stream",
     "text": [
      "5\n"
     ]
    }
   ],
   "source": [
    "print(result_sub)"
   ]
  },
  {
   "cell_type": "code",
   "execution_count": 23,
   "metadata": {},
   "outputs": [
    {
     "data": {
      "text/plain": [
       "int"
      ]
     },
     "execution_count": 23,
     "metadata": {},
     "output_type": "execute_result"
    }
   ],
   "source": [
    "type(result_sub)"
   ]
  },
  {
   "cell_type": "code",
   "execution_count": 24,
   "metadata": {},
   "outputs": [
    {
     "data": {
      "text/plain": [
       "str"
      ]
     },
     "execution_count": 24,
     "metadata": {},
     "output_type": "execute_result"
    }
   ],
   "source": [
    "type(last_name)"
   ]
  },
  {
   "cell_type": "code",
   "execution_count": 25,
   "metadata": {},
   "outputs": [
    {
     "data": {
      "text/plain": [
       "'Gomez'"
      ]
     },
     "execution_count": 25,
     "metadata": {},
     "output_type": "execute_result"
    }
   ],
   "source": [
    "last_name"
   ]
  },
  {
   "cell_type": "code",
   "execution_count": 26,
   "metadata": {},
   "outputs": [
    {
     "name": "stdout",
     "output_type": "stream",
     "text": [
      "Gomez\n"
     ]
    }
   ],
   "source": [
    "print(last_name)"
   ]
  },
  {
   "cell_type": "code",
   "execution_count": 27,
   "metadata": {},
   "outputs": [
    {
     "data": {
      "text/plain": [
       "8"
      ]
     },
     "execution_count": 27,
     "metadata": {},
     "output_type": "execute_result"
    }
   ],
   "source": [
    "4+4"
   ]
  },
  {
   "cell_type": "code",
   "execution_count": 28,
   "metadata": {},
   "outputs": [],
   "source": [
    "# operadores de comparación\n",
    "# == igual\n",
    "# != diferente\n",
    "# > mayor que\n",
    "# < menor que\n",
    "# >= mayor o igual que\n",
    "# <= menor o igual que\n"
   ]
  },
  {
   "cell_type": "code",
   "execution_count": 29,
   "metadata": {},
   "outputs": [],
   "source": [
    "# operadores booleanos\n",
    "# True\n",
    "# False"
   ]
  },
  {
   "cell_type": "code",
   "execution_count": 30,
   "metadata": {},
   "outputs": [
    {
     "data": {
      "text/plain": [
       "True"
      ]
     },
     "execution_count": 30,
     "metadata": {},
     "output_type": "execute_result"
    }
   ],
   "source": [
    "# ejemplos\n",
    "4 == 4"
   ]
  },
  {
   "cell_type": "code",
   "execution_count": 31,
   "metadata": {},
   "outputs": [
    {
     "data": {
      "text/plain": [
       "False"
      ]
     },
     "execution_count": 31,
     "metadata": {},
     "output_type": "execute_result"
    }
   ],
   "source": [
    "number_1 == number_2"
   ]
  },
  {
   "cell_type": "code",
   "execution_count": 32,
   "metadata": {},
   "outputs": [
    {
     "data": {
      "text/plain": [
       "True"
      ]
     },
     "execution_count": 32,
     "metadata": {},
     "output_type": "execute_result"
    }
   ],
   "source": [
    "number_1 > number_2"
   ]
  },
  {
   "cell_type": "code",
   "execution_count": 33,
   "metadata": {},
   "outputs": [
    {
     "data": {
      "text/plain": [
       "False"
      ]
     },
     "execution_count": 33,
     "metadata": {},
     "output_type": "execute_result"
    }
   ],
   "source": [
    "number_1 <= number_2"
   ]
  },
  {
   "cell_type": "code",
   "execution_count": null,
   "metadata": {},
   "outputs": [
    {
     "name": "stdout",
     "output_type": "stream",
     "text": [
      "number_1 es mayor que number_2\n"
     ]
    }
   ],
   "source": [
    "# condicionales\n",
    "if (number_1 > number_2):\n",
    "    print(\"number_1 es mayor que number_2\")"
   ]
  },
  {
   "cell_type": "code",
   "execution_count": 38,
   "metadata": {},
   "outputs": [
    {
     "ename": "SyntaxError",
     "evalue": "expected ':' (3443506882.py, line 2)",
     "output_type": "error",
     "traceback": [
      "\u001b[1;36m  Cell \u001b[1;32mIn[38], line 2\u001b[1;36m\u001b[0m\n\u001b[1;33m    if (number_1 > number_2)\u001b[0m\n\u001b[1;37m                            ^\u001b[0m\n\u001b[1;31mSyntaxError\u001b[0m\u001b[1;31m:\u001b[0m expected ':'\n"
     ]
    }
   ],
   "source": [
    "# condicionales\n",
    "if (number_1 > number_2)\n",
    "    print(\"number_1 es mayor que number_2\")"
   ]
  },
  {
   "cell_type": "code",
   "execution_count": 39,
   "metadata": {},
   "outputs": [
    {
     "ename": "IndentationError",
     "evalue": "expected an indented block after 'if' statement on line 2 (2570700219.py, line 3)",
     "output_type": "error",
     "traceback": [
      "\u001b[1;36m  Cell \u001b[1;32mIn[39], line 3\u001b[1;36m\u001b[0m\n\u001b[1;33m    print(\"number_1 es mayor que number_2\")\u001b[0m\n\u001b[1;37m    ^\u001b[0m\n\u001b[1;31mIndentationError\u001b[0m\u001b[1;31m:\u001b[0m expected an indented block after 'if' statement on line 2\n"
     ]
    }
   ],
   "source": [
    "# condicionales\n",
    "if (number_1 > number_2):\n",
    "print(\"number_1 es mayor que number_2\")"
   ]
  },
  {
   "cell_type": "code",
   "execution_count": 41,
   "metadata": {},
   "outputs": [
    {
     "name": "stdout",
     "output_type": "stream",
     "text": [
      "number_1 es menor que number_2\n"
     ]
    }
   ],
   "source": [
    "# condicionales\n",
    "if (number_1 < number_2):\n",
    "    print(\"number_1 es mayor que number_2\")\n",
    "else:\n",
    "    print(\"number_1 es menor que number_2\")"
   ]
  },
  {
   "cell_type": "code",
   "execution_count": 42,
   "metadata": {},
   "outputs": [
    {
     "ename": "SyntaxError",
     "evalue": "invalid syntax (640260859.py, line 4)",
     "output_type": "error",
     "traceback": [
      "\u001b[1;36m  Cell \u001b[1;32mIn[42], line 4\u001b[1;36m\u001b[0m\n\u001b[1;33m    else:\u001b[0m\n\u001b[1;37m    ^\u001b[0m\n\u001b[1;31mSyntaxError\u001b[0m\u001b[1;31m:\u001b[0m invalid syntax\n"
     ]
    }
   ],
   "source": [
    "# condicionales\n",
    "if (number_1 < number_2):\n",
    "    print(\"number_1 es mayor que number_2\")\n",
    "    else:\n",
    "    print(\"number_1 es menor que number_2\")"
   ]
  },
  {
   "cell_type": "code",
   "execution_count": 46,
   "metadata": {},
   "outputs": [
    {
     "ename": "IndentationError",
     "evalue": "unindent does not match any outer indentation level (<string>, line 4)",
     "output_type": "error",
     "traceback": [
      "\u001b[1;36m  File \u001b[1;32m<string>:4\u001b[1;36m\u001b[0m\n\u001b[1;33m    else:\u001b[0m\n\u001b[1;37m         ^\u001b[0m\n\u001b[1;31mIndentationError\u001b[0m\u001b[1;31m:\u001b[0m unindent does not match any outer indentation level\n"
     ]
    }
   ],
   "source": [
    "# condicionales\n",
    "if (number_1 < number_2):\n",
    "    print(\"number_1 es mayor que number_2\")\n",
    "  else:\n",
    "    print(\"number_1 es menor que number_2\")"
   ]
  },
  {
   "cell_type": "code",
   "execution_count": 50,
   "metadata": {},
   "outputs": [
    {
     "name": "stdout",
     "output_type": "stream",
     "text": [
      " los números son iguales\n"
     ]
    }
   ],
   "source": [
    "# condicionales\n",
    "number_1 = 20\n",
    "number_2 = 20\n",
    "\n",
    "if (number_1 > number_2):\n",
    "    print(\"number_1 es mayor que number_2\")\n",
    "elif number_1 < number_2:\n",
    "    print(\"number_1 es menor que number_2\")\n",
    "else:\n",
    "    print(\" los números son iguales\")"
   ]
  },
  {
   "cell_type": "code",
   "execution_count": 51,
   "metadata": {},
   "outputs": [
    {
     "name": "stdout",
     "output_type": "stream",
     "text": [
      "number_1 es mayor que number_2 y mayor que 10\n"
     ]
    }
   ],
   "source": [
    "# condicionales anidados\n",
    "number_1 = 20\n",
    "number_2 = 10\n",
    "\n",
    "if (number_1 > number_2):\n",
    "    if number_1 > 10:\n",
    "        print(\"number_1 es mayor que number_2 y mayor que 10\")\n",
    "elif number_1 < number_2:\n",
    "    print(\"number_1 es menor que number_2\")\n",
    "else:\n",
    "    print(\" los números son iguales\")"
   ]
  },
  {
   "cell_type": "code",
   "execution_count": 53,
   "metadata": {},
   "outputs": [
    {
     "name": "stdout",
     "output_type": "stream",
     "text": [
      "number_1 es mayor que number_2 y mayor que 10\n"
     ]
    }
   ],
   "source": [
    "# operadores lógicos\n",
    "# and\n",
    "# or\n",
    "# not\n",
    "# condicionales anidados\n",
    "number_1 = 20\n",
    "number_2 = 5\n",
    "\n",
    "if (number_1 > number_2) and (number_1 > 10):\n",
    "    print(\"number_1 es mayor que number_2 y mayor que 10\")\n",
    "elif number_1 < number_2:\n",
    "    print(\"number_1 es menor que number_2\")\n",
    "else:\n",
    "    print(\" los números son iguales\")"
   ]
  },
  {
   "cell_type": "code",
   "execution_count": 55,
   "metadata": {},
   "outputs": [
    {
     "name": "stdout",
     "output_type": "stream",
     "text": [
      "\"20\" es mayor que \"5\" y mayor que 10\n"
     ]
    }
   ],
   "source": [
    "# operadores lógicos\n",
    "# and\n",
    "# or\n",
    "# not\n",
    "# condicionales anidados\n",
    "number_1 = 20\n",
    "number_2 = 5\n",
    "\n",
    "if (number_1 > number_2) and (number_1 > 10):\n",
    "    print(f'\"{number_1}\" es mayor que \"{number_2}\" y mayor que 10')\n",
    "elif number_1 < number_2:\n",
    "    print(\"number_1 es menor que number_2\")\n",
    "else:\n",
    "    print(\" los números son iguales\")"
   ]
  },
  {
   "cell_type": "code",
   "execution_count": 57,
   "metadata": {},
   "outputs": [
    {
     "name": "stdout",
     "output_type": "stream",
     "text": [
      "¡Jugador 1 gana! Papel gana a piedra.\n"
     ]
    }
   ],
   "source": [
    "# Solicitar las elecciones de los dos jugadores\n",
    "jugador1 = input(\"Jugador 1, elige piedra, papel o tijera: \").lower()\n",
    "jugador2 = input(\"Jugador 2, elige piedra, papel o tijera: \").lower()\n",
    "\n",
    "# Verificar las elecciones y determinar el resultado\n",
    "if jugador1 == jugador2:\n",
    "    print(\"¡Es un empate!\")\n",
    "elif jugador1 == \"piedra\":\n",
    "    if jugador2 == \"tijera\":\n",
    "        print(\"¡Jugador 1 gana! Piedra gana a tijera.\")\n",
    "    else:\n",
    "        print(\"¡Jugador 2 gana! Papel gana a piedra.\")\n",
    "elif jugador1 == \"papel\":\n",
    "    if jugador2 == \"piedra\":\n",
    "        print(\"¡Jugador 1 gana! Papel gana a piedra.\")\n",
    "    else:\n",
    "        print(\"¡Jugador 2 gana! Tijera gana a papel.\")\n",
    "elif jugador1 == \"tijera\":\n",
    "    if jugador2 == \"papel\":\n",
    "        print(\"¡Jugador 1 gana! Tijera gana a papel.\")\n",
    "    else:\n",
    "        print(\"¡Jugador 2 gana! Piedra gana a tijera.\")\n",
    "else:\n",
    "    print(\"Elección no válida. Asegúrate de escribir 'piedra', 'papel' o 'tijera'.\")\n"
   ]
  },
  {
   "cell_type": "code",
   "execution_count": null,
   "metadata": {},
   "outputs": [],
   "source": []
  },
  {
   "cell_type": "markdown",
   "metadata": {},
   "source": [
    "### Estructuras de datos básicas"
   ]
  },
  {
   "cell_type": "code",
   "execution_count": null,
   "metadata": {},
   "outputs": [],
   "source": [
    "# int\n",
    "# float\n",
    "# str\n",
    "# list\n",
    "# tuple\n",
    "             # 0        1        2         3\n",
    "             # -4      -3       -2        -1\n",
    "list_names = [\n",
    "    \"Juan\",\n",
    "    \"Pedro\",\n",
    "    \"Maria\",\n",
    "    \"Ana\",\n",
    "    ]\n"
   ]
  },
  {
   "cell_type": "code",
   "execution_count": 8,
   "metadata": {},
   "outputs": [
    {
     "data": {
      "text/plain": [
       "'Juan'"
      ]
     },
     "execution_count": 8,
     "metadata": {},
     "output_type": "execute_result"
    }
   ],
   "source": [
    "list_names[0]"
   ]
  },
  {
   "cell_type": "code",
   "execution_count": 4,
   "metadata": {},
   "outputs": [
    {
     "data": {
      "text/plain": [
       "'Maria'"
      ]
     },
     "execution_count": 4,
     "metadata": {},
     "output_type": "execute_result"
    }
   ],
   "source": [
    "list_names[2]"
   ]
  },
  {
   "cell_type": "code",
   "execution_count": 5,
   "metadata": {},
   "outputs": [
    {
     "data": {
      "text/plain": [
       "['Juan', 'Pedro']"
      ]
     },
     "execution_count": 5,
     "metadata": {},
     "output_type": "execute_result"
    }
   ],
   "source": [
    "# slice de listas\n",
    "# [start:stop:step]\n",
    "list_names[:2]"
   ]
  },
  {
   "cell_type": "code",
   "execution_count": 6,
   "metadata": {},
   "outputs": [
    {
     "data": {
      "text/plain": [
       "['Pedro', 'Maria']"
      ]
     },
     "execution_count": 6,
     "metadata": {},
     "output_type": "execute_result"
    }
   ],
   "source": [
    "list_names[1:3]"
   ]
  },
  {
   "cell_type": "code",
   "execution_count": 10,
   "metadata": {},
   "outputs": [],
   "source": [
    "# list methods\n",
    "# append\n",
    "list_names.append(\"Carlos\")"
   ]
  },
  {
   "cell_type": "code",
   "execution_count": 11,
   "metadata": {},
   "outputs": [
    {
     "data": {
      "text/plain": [
       "['Juan', 'Pedro', 'Maria', 'Ana', 'Carlos']"
      ]
     },
     "execution_count": 11,
     "metadata": {},
     "output_type": "execute_result"
    }
   ],
   "source": [
    "list_names"
   ]
  },
  {
   "cell_type": "code",
   "execution_count": 12,
   "metadata": {},
   "outputs": [
    {
     "data": {
      "text/plain": [
       "'Juan'"
      ]
     },
     "execution_count": 12,
     "metadata": {},
     "output_type": "execute_result"
    }
   ],
   "source": [
    "list_names.pop(0)"
   ]
  },
  {
   "cell_type": "code",
   "execution_count": 13,
   "metadata": {},
   "outputs": [
    {
     "data": {
      "text/plain": [
       "['Pedro', 'Maria', 'Ana', 'Carlos']"
      ]
     },
     "execution_count": 13,
     "metadata": {},
     "output_type": "execute_result"
    }
   ],
   "source": [
    "list_names"
   ]
  },
  {
   "cell_type": "code",
   "execution_count": 14,
   "metadata": {},
   "outputs": [
    {
     "data": {
      "text/plain": [
       "4"
      ]
     },
     "execution_count": 14,
     "metadata": {},
     "output_type": "execute_result"
    }
   ],
   "source": [
    "# longitud de una lista\n",
    "len(list_names)"
   ]
  },
  {
   "cell_type": "code",
   "execution_count": null,
   "metadata": {},
   "outputs": [
    {
     "name": "stdout",
     "output_type": "stream",
     "text": [
      "Pedro\n",
      "Maria\n",
      "Ana\n",
      "Carlos\n"
     ]
    }
   ],
   "source": [
    "# ciclos for\n",
    "for name in list_names:\n",
    "    print(name)"
   ]
  },
  {
   "cell_type": "code",
   "execution_count": null,
   "metadata": {},
   "outputs": [
    {
     "name": "stdout",
     "output_type": "stream",
     "text": [
      "Ana está en la lista\n"
     ]
    }
   ],
   "source": [
    "# ciclos for\n",
    "for name in list_names:\n",
    "    # buscar el nombre ana en la lista en minúsculas\n",
    "    if name.lower() == \"ana\":\n",
    "        print(\"Ana está en la lista\")\n",
    "        break\n"
   ]
  },
  {
   "cell_type": "code",
   "execution_count": null,
   "metadata": {},
   "outputs": [],
   "source": [
    "# diccionarios\n",
    "# key : value\n",
    "dict_names = {\n",
    "    \"name\": \"Juan\",\n",
    "    \"last_name\": \"Perez\",\n",
    "    \"age\": [25,42,12],\n",
    "}"
   ]
  },
  {
   "cell_type": "markdown",
   "metadata": {},
   "source": [
    "### funciones\n"
   ]
  },
  {
   "cell_type": "code",
   "execution_count": 19,
   "metadata": {},
   "outputs": [],
   "source": [
    "# función que saluede\n",
    "def saludar():\n",
    "    print(\"Hola mundo\")"
   ]
  },
  {
   "cell_type": "code",
   "execution_count": 20,
   "metadata": {},
   "outputs": [
    {
     "name": "stdout",
     "output_type": "stream",
     "text": [
      "Hola mundo\n"
     ]
    }
   ],
   "source": [
    "saludar()"
   ]
  },
  {
   "cell_type": "code",
   "execution_count": 22,
   "metadata": {},
   "outputs": [],
   "source": [
    "# función que saluede con retorno\n",
    "def saludar2():\n",
    "    return \"Hola mundo\""
   ]
  },
  {
   "cell_type": "code",
   "execution_count": 23,
   "metadata": {},
   "outputs": [
    {
     "data": {
      "text/plain": [
       "'Hola mundo'"
      ]
     },
     "execution_count": 23,
     "metadata": {},
     "output_type": "execute_result"
    }
   ],
   "source": [
    "saludar2()"
   ]
  },
  {
   "cell_type": "code",
   "execution_count": 24,
   "metadata": {},
   "outputs": [],
   "source": [
    "# función que saluede con retorno para un nombre\n",
    "def saludar3(name):\n",
    "    return f\"Hola {name}\""
   ]
  },
  {
   "cell_type": "code",
   "execution_count": 26,
   "metadata": {},
   "outputs": [
    {
     "data": {
      "text/plain": [
       "'Hola Pedro'"
      ]
     },
     "execution_count": 26,
     "metadata": {},
     "output_type": "execute_result"
    }
   ],
   "source": [
    "saludar3(\"Pedro\")"
   ]
  },
  {
   "cell_type": "code",
   "execution_count": 27,
   "metadata": {},
   "outputs": [
    {
     "ename": "TypeError",
     "evalue": "saludar3() missing 1 required positional argument: 'name'",
     "output_type": "error",
     "traceback": [
      "\u001b[1;31m---------------------------------------------------------------------------\u001b[0m",
      "\u001b[1;31mTypeError\u001b[0m                                 Traceback (most recent call last)",
      "Cell \u001b[1;32mIn[27], line 1\u001b[0m\n\u001b[1;32m----> 1\u001b[0m \u001b[43msaludar3\u001b[49m\u001b[43m(\u001b[49m\u001b[43m)\u001b[49m\n",
      "\u001b[1;31mTypeError\u001b[0m: saludar3() missing 1 required positional argument: 'name'"
     ]
    }
   ],
   "source": [
    "saludar3()"
   ]
  },
  {
   "cell_type": "code",
   "execution_count": 28,
   "metadata": {},
   "outputs": [],
   "source": [
    "# función que saluede con retorno para un nombre con valor por defecto\n",
    "def saludar3(name=\"Fulano de tal\"):\n",
    "    return f\"Hola {name}\"\n"
   ]
  },
  {
   "cell_type": "code",
   "execution_count": 30,
   "metadata": {},
   "outputs": [
    {
     "data": {
      "text/plain": [
       "'Hola Maria Antonia'"
      ]
     },
     "execution_count": 30,
     "metadata": {},
     "output_type": "execute_result"
    }
   ],
   "source": [
    "saludar3(\"Maria Antonia\")"
   ]
  },
  {
   "cell_type": "code",
   "execution_count": 31,
   "metadata": {},
   "outputs": [],
   "source": [
    "# función que saluede con retorno para nombre y apellido con valores por defecto\n",
    "def saludar4(name=\"Fulano\", last_name=\"De tal\"):\n",
    "    return f\"Hola {name} {last_name}\"\n"
   ]
  },
  {
   "cell_type": "code",
   "execution_count": 32,
   "metadata": {},
   "outputs": [
    {
     "data": {
      "text/plain": [
       "'Hola Maria Antonia'"
      ]
     },
     "execution_count": 32,
     "metadata": {},
     "output_type": "execute_result"
    }
   ],
   "source": [
    "saludar4(\"Maria\", \"Antonia\")"
   ]
  },
  {
   "cell_type": "code",
   "execution_count": 33,
   "metadata": {},
   "outputs": [
    {
     "data": {
      "text/plain": [
       "'Hola Antonia Maria'"
      ]
     },
     "execution_count": 33,
     "metadata": {},
     "output_type": "execute_result"
    }
   ],
   "source": [
    "saludar4(\"Antonia\", \"Maria\")"
   ]
  },
  {
   "cell_type": "code",
   "execution_count": 34,
   "metadata": {},
   "outputs": [
    {
     "data": {
      "text/plain": [
       "'Hola Antonia Maria'"
      ]
     },
     "execution_count": 34,
     "metadata": {},
     "output_type": "execute_result"
    }
   ],
   "source": [
    "saludar4(last_name=\"Maria\", name=\"Antonia\")"
   ]
  },
  {
   "cell_type": "code",
   "execution_count": 36,
   "metadata": {},
   "outputs": [],
   "source": [
    "# función documentada que saluede con retorno para nombre y apellido con valores por defecto\n",
    "def saludar5(name=\"Fulano\", last_name=\"De tal\"):\n",
    "    \"\"\"\n",
    "    Esta función saluda a una persona con su nombre y apellido\n",
    "    name: str\n",
    "    last_name: str\n",
    "    return: str\n",
    "    return f\"Hola {name} {last_name}\"\n",
    "    \"\"\"\n",
    "    return f\"Hola {name} {last_name}\"\n"
   ]
  },
  {
   "cell_type": "code",
   "execution_count": null,
   "metadata": {},
   "outputs": [],
   "source": []
  },
  {
   "cell_type": "code",
   "execution_count": null,
   "metadata": {},
   "outputs": [],
   "source": [
    "saludar5()"
   ]
  }
 ],
 "metadata": {
  "kernelspec": {
   "display_name": "Python 3",
   "language": "python",
   "name": "python3"
  },
  "language_info": {
   "codemirror_mode": {
    "name": "ipython",
    "version": 3
   },
   "file_extension": ".py",
   "mimetype": "text/x-python",
   "name": "python",
   "nbconvert_exporter": "python",
   "pygments_lexer": "ipython3",
   "version": "3.12.6"
  }
 },
 "nbformat": 4,
 "nbformat_minor": 2
}
